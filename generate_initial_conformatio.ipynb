{
 "cells": [
  {
   "cell_type": "code",
   "execution_count": null,
   "metadata": {},
   "outputs": [],
   "source": [
    "%load_ext autoreload\n",
    "%autoreload 2\n",
    "%config Completer.use_jedi = False\n",
    "import pandas as pd\n",
    "import numpy as np\n",
    "import os"
   ]
  },
  {
   "cell_type": "code",
   "execution_count": null,
   "metadata": {},
   "outputs": [],
   "source": [
    "def write_lmpdat_stat(chain_length=400, path=\"./chain400\", box_size=45.42, n_chains=1):\n",
    "    \"\"\"Write single polymer chain of 400 beads.\n",
    "    100 beads from both ends are just to avoid artefacts at boundaries.\n",
    "    Then 200 beads to perform analysis.\"\"\"\n",
    "\n",
    "    with open(path, \"w\") as f:\n",
    "        f.write(f\"#linear chain of {chain_length*n_chains} beads\\n\\n\")\n",
    "        f.write(f\"    {chain_length*n_chains} atoms\\n\")\n",
    "        f.write(f\"    {(chain_length*n_chains - n_chains)} bonds\\n\\n\\n\")\n",
    "        f.write(\"  3 atom types\\n\")\n",
    "        f.write(\"  2 bond types\\n\\n\")\n",
    "        f.write(f\"0.000 {box_size:5.3f} xlo xhi\\n\")\n",
    "        f.write(f\"0.000 {box_size:5.3f} ylo yhi\\n\")\n",
    "        f.write(f\"0.000 {box_size:5.3f} zlo zhi\\n\\n\")\n",
    "        f.write(\"Masses\\n\\n1\\t1000\\n2\\t1000\\n3\\t1000\\n\\n Atoms\\n\\n\")\n",
    "\n",
    "        for n_ch in range(n_chains):\n",
    "            x, y, z = create_coordinates(radius=box_size / 2, bdsNumber=chain_length)\n",
    "            for i in range(chain_length):\n",
    "                f.write(\n",
    "                    f\"{n_ch*chain_length+i+1:8d} 0 1 {x[i]:5.4f} {y[i]:5.4f} {z[i]:5.4f}\\n\"\n",
    "                )\n",
    "        f.write(\"\\n Bonds\\n\\n\")\n",
    "        for n_ch in range(n_chains):\n",
    "            for i in range(1 + n_ch * chain_length, n_ch * chain_length + chain_length):\n",
    "                f.write(f\"{i:8d} 1 {i:5d} {i+1:5d}\\n\")"
   ]
  },
  {
   "cell_type": "code",
   "execution_count": null,
   "metadata": {},
   "outputs": [],
   "source": [
    "chain_len = 1000  # beads, 400 kb\n",
    "chromatin_conc = 0.1  # 10 %\n",
    "cubic_box_size = (chain_len * 4 / 3 * np.pi / chromatin_conc) ** (1 / 3)\n",
    "\n",
    "for t in range(9):\n",
    "    for i in range(102):\n",
    "        folder = f\"simulations_init/2023_11_17/_le_150_550/_le_150_550_{t}/{i}/\"\n",
    "        os.makedirs(folder, exist_ok=True)\n",
    "        write_lmpdat_stat(\n",
    "            chain_length=chain_len,\n",
    "            path=f\"{folder}/chain{chain_len}.dat\",\n",
    "            box_size=cubic_box_size,\n",
    "            n_chains=1,\n",
    "        )\n",
    "    print(f\"{t} done\")"
   ]
  }
 ],
 "metadata": {
  "kernelspec": {
   "display_name": "Python 3",
   "language": "python",
   "name": "python3"
  },
  "language_info": {
   "name": "python",
   "version": "3.8.12"
  }
 },
 "nbformat": 4,
 "nbformat_minor": 2
}
